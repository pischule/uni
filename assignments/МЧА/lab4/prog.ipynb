{
 "cells": [
  {
   "cell_type": "code",
   "execution_count": 129,
   "metadata": {},
   "outputs": [],
   "source": [
    "import numpy as np\n",
    "import math"
   ]
  },
  {
   "cell_type": "code",
   "execution_count": 130,
   "metadata": {},
   "outputs": [],
   "source": [
    "# интегрируемая функция\n",
    "def f(x):\n",
    "    return 1/(1 + np.sin(x) + np.power(x, 2))\n",
    "\n",
    "# промежуток интегрирования\n",
    "a, b = 0, math.pi / 4\n",
    "\n",
    "# точность\n",
    "eps = 10**(-4)"
   ]
  },
  {
   "cell_type": "code",
   "execution_count": 136,
   "metadata": {},
   "outputs": [],
   "source": [
    "# коэффициенты для правила Рунге\n",
    "theta_vals = {'right_rect' : 1/3, 'trapezium' : 1/3, \n",
    "            'simps' : 1/15}\n",
    "\n",
    "# коэффициенты для формулы Гаусса\n",
    "gaus_x = {2: [-0.55773502692, 0.55773502692],\n",
    "          3: [-0.7745966692, 0, 0.7745966692],\n",
    "          4: [-0.8611363116, -0.3399810436, 0.3399810436, 0.8611363116]}\n",
    "gaus_a = {2: [1, 1],\n",
    "          3: [5/9, 8/9, 5/9],\n",
    "          4: [0.3478548451, 0.6521451549, 0.6521451549, 0.3478548451]}\n",
    "\n",
    "# метод правых прямоугольников\n",
    "def right_rect(n):\n",
    "    points = np.linspace(a, b, n+1)\n",
    "    h = points[1:] - points[:-1]\n",
    "    return np.sum(f(points[1:]) * h)\n",
    "\n",
    "# метод трапеция\n",
    "def trapezium(n):\n",
    "    points = np.linspace(a, b, n+1)\n",
    "    h = points[1:] - points[:-1]\n",
    "    return np.sum((f(points[:-1]) + f(points[1:])) / 2 * h)\n",
    "\n",
    "# метод Симпсона\n",
    "def simps(n):\n",
    "    points = np.linspace(a, b, n+1)\n",
    "    h = points[1:] - points[:-1]\n",
    "    return np.sum((f(points[:-1]) + f(points[1:]) + \n",
    "            4 * f((points[:-1] + points[1:])/2)) * h / 6)\n",
    "\n",
    "# функция для замены в формуле Гаусса\n",
    "def scale(x):\n",
    "    return (a + b) / 2 + (b - a) * x / 2 \n",
    "\n",
    "# формула Гаусса\n",
    "def gaus(n):\n",
    "    assert(2 <= n <= 4)\n",
    "    result = 0\n",
    "    for (xi, ai) in zip(gaus_x[n],gaus_a[n]):\n",
    "        result += ai * f(scale(xi))\n",
    "    return result * (b-a)/2\n",
    "\n",
    "# оценивает погрешность для шага 2n\n",
    "# для данного θ по правилу Рунге \n",
    "def runge(prev, curr, theta):\n",
    "    return np.abs(curr - prev) * theta\n",
    "\n",
    "# выводит в консоль строку таблицы в формате LaTeX\n",
    "def print_table_line(a, b, c):\n",
    "    print(f'& {a} & {b} & {c} \\\\\\\\ \\\\hline')\n",
    "\n",
    "# выводит в консоль таблицу для данного метода\n",
    "# в формате LaTeX\n",
    "def show_latex_table(method, method_name):\n",
    "    theta = theta_vals[method_name]\n",
    "    n = 1\n",
    "    h = b - a\n",
    "    curr = method(n)\n",
    "    error = math.inf\n",
    "    print(f'& $h = {h:.6f}$ & $I_h={curr:.6f}$ &  \\\\\\\\ \\\\hline')\n",
    "    while error > eps:\n",
    "        n *= 2\n",
    "        h /= 2\n",
    "        prev, curr = curr, method(n)\n",
    "        error = runge(prev, curr, theta)\n",
    "        print(f'& $h/{n} = {h:.6f}$ & $I_{{h/{n}}}={curr:.6f}$ & $R_{{h/{n}}}=\\\n",
    "{error:.6f}$ \\\\\\\\ \\\\hline')"
   ]
  },
  {
   "cell_type": "code",
   "execution_count": 132,
   "metadata": {},
   "outputs": [
    {
     "output_type": "stream",
     "name": "stdout",
     "text": "& $h = 0.785398$ & $I_h=0.337957$ &  \\\\ \\hline\n& $h/2 = 0.392699$ & $I_{h/2}=0.424493$ & $R_{h/2}=0.028845$ \\\\ \\hline\n& $h/4 = 0.196350$ & $I_{h/4}=0.474612$ & $R_{h/4}=0.016706$ \\\\ \\hline\n& $h/8 = 0.098175$ & $I_{h/8}=0.501169$ & $R_{h/8}=0.008852$ \\\\ \\hline\n& $h/16 = 0.049087$ & $I_{h/16}=0.514802$ & $R_{h/16}=0.004544$ \\\\ \\hline\n& $h/32 = 0.024544$ & $I_{h/32}=0.521706$ & $R_{h/32}=0.002301$ \\\\ \\hline\n& $h/64 = 0.012272$ & $I_{h/64}=0.525180$ & $R_{h/64}=0.001158$ \\\\ \\hline\n& $h/128 = 0.006136$ & $I_{h/128}=0.526922$ & $R_{h/128}=0.000581$ \\\\ \\hline\n& $h/256 = 0.003068$ & $I_{h/256}=0.527795$ & $R_{h/256}=0.000291$ \\\\ \\hline\n& $h/512 = 0.001534$ & $I_{h/512}=0.528232$ & $R_{h/512}=0.000146$ \\\\ \\hline\n& $h/1024 = 0.000767$ & $I_{h/1024}=0.528450$ & $R_{h/1024}=0.000073$ \\\\ \\hline\n"
    }
   ],
   "source": [
    "# выведем таблицу для метода правых прямоугольников\n",
    "show_latex_table(right_rect, 'right_rect')"
   ]
  },
  {
   "cell_type": "code",
   "execution_count": 133,
   "metadata": {},
   "outputs": [
    {
     "output_type": "stream",
     "name": "stdout",
     "text": "& $h = 0.785398$ & $I_h=0.561678$ &  \\\\ \\hline\n& $h/2 = 0.392699$ & $I_{h/2}=0.536353$ & $R_{h/2}=0.008441$ \\\\ \\hline\n& $h/4 = 0.196350$ & $I_{h/4}=0.530542$ & $R_{h/4}=0.001937$ \\\\ \\hline\n& $h/8 = 0.098175$ & $I_{h/8}=0.529134$ & $R_{h/8}=0.000470$ \\\\ \\hline\n& $h/16 = 0.049087$ & $I_{h/16}=0.528785$ & $R_{h/16}=0.000116$ \\\\ \\hline\n& $h/32 = 0.024544$ & $I_{h/32}=0.528697$ & $R_{h/32}=0.000029$ \\\\ \\hline\n"
    }
   ],
   "source": [
    "# выведем таблицу для метода трапеций\n",
    "show_latex_table(trapezium, 'trapezium')"
   ]
  },
  {
   "cell_type": "code",
   "execution_count": 134,
   "metadata": {},
   "outputs": [
    {
     "output_type": "stream",
     "name": "stdout",
     "text": "& $h = 0.785398$ & $I_h=0.527912$ &  \\\\ \\hline\n& $h/2 = 0.392699$ & $I_{h/2}=0.528605$ & $R_{h/2}=0.000046$ \\\\ \\hline\n"
    }
   ],
   "source": [
    "# выведем таблицу для метода Симпсона\n",
    "show_latex_table(simps, 'simps')"
   ]
  },
  {
   "cell_type": "code",
   "execution_count": 135,
   "metadata": {},
   "outputs": [
    {
     "output_type": "stream",
     "name": "stdout",
     "text": "2:\t0.5279828144\n3:\t0.5286849071\n4:\t0.5286680863\n"
    }
   ],
   "source": [
    "# выведем приближенные значения интеграла,\n",
    "# подсчитанные по формуле Гаусса\n",
    "for i in range(2, 5):\n",
    "    print(f'{i}:\\t{gaus(i):.10f}')"
   ]
  }
 ],
 "metadata": {
  "language_info": {
   "codemirror_mode": {
    "name": "ipython",
    "version": 3
   },
   "file_extension": ".py",
   "mimetype": "text/x-python",
   "name": "python",
   "nbconvert_exporter": "python",
   "pygments_lexer": "ipython3",
   "version": "3.8.2-final"
  },
  "orig_nbformat": 2,
  "kernelspec": {
   "name": "python38264bit5095e83282ae44a3b7c6092c8ae8137c",
   "display_name": "Python 3.8.2 64-bit"
  }
 },
 "nbformat": 4,
 "nbformat_minor": 2
}