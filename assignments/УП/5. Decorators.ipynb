{
  "cells": [
    {
      "cell_type": "markdown",
      "metadata": {
        "id": "wxNuXwoVq6pa",
        "colab_type": "text"
      },
      "source": [
        "# Profiler\n",
        "\n",
        "Напишите декоратор `@profiler`, который при вызове функции будет замерять время ее исполнения\n",
        "\n",
        "Для работы со временем в питоне есть замечательный модуль `datetime`.\n",
        "\n",
        "Декоратор не должен затирать основные атрибуты функции: `__name__`, `__doc__`, `__module__`. Вам понадобится одна строчка дополнительная строчка для этого (см. ноутбук по теме)\n",
        "\n",
        "Пользоваться глобальными переменными запрещено, сохранять результаты замера нужно в **атрибуте** функции.\n",
        "Атрибут назовите `last_time_taken`.\n",
        "\n",
        "\n",
        "> Вообще, хранить какие-то свои данные в атрибутах функции - антипаттерн, и в продакшен коде так делать не стоит.\n"
      ]
    },
    {
      "cell_type": "code",
      "execution_count": 7,
      "metadata": {},
      "outputs": [],
      "source": [
        "from functools import wraps\n",
        "from datetime import datetime, timedelta"
      ]
    },
    {
      "cell_type": "code",
      "execution_count": 8,
      "metadata": {},
      "outputs": [],
      "source": [
        "def profiler(func):\n",
        "    @wraps(func)\n",
        "    def wrapper(*args, **kwargs):\n",
        "        start = datetime.now()\n",
        "        value = func(*args, **kwargs)\n",
        "        wrapper.last_time_taken = datetime.now() - start\n",
        "        return value\n",
        "    \n",
        "    wrapper.last_time_taken = timedelta(0)\n",
        "\n",
        "    return wrapper\n"
      ]
    },
    {
      "cell_type": "code",
      "metadata": {
        "id": "k0H5PYIyraKj",
        "colab_type": "code",
        "outputId": "aecc0cba-f023-42c4-95c3-cec9e981f999",
        "colab": {
          "base_uri": "https://localhost:8080/",
          "height": 34
        }
      },
      "source": [
        "@profiler\n",
        "def foo():\n",
        "    pass\n",
        "\n",
        "foo()\n",
        "\n",
        "\n",
        "assert foo.last_time_taken > timedelta(0)\n",
        "print(f'Time: {foo.last_time_taken}')"
      ],
      "execution_count": 9,
      "outputs": [
        {
          "output_type": "stream",
          "name": "stdout",
          "text": "Time: 0:00:00.000006\n"
        }
      ]
    },
    {
      "cell_type": "markdown",
      "metadata": {
        "colab_type": "text",
        "id": "61E43YDb7GIb"
      },
      "source": [
        "# Calls counter\n",
        "\n",
        "Напишите декоратор `@calls_counter`, который при вызове функции будет замерять количество рекусивных вызовов\n",
        "\n",
        "Декоратор не должен затирать основные атрибуты функции: `__name__`, `__doc__`, `__module__`. Вам понадобится одна строчка дополнительная строчка для этого (см. ноутбук по теме)\n",
        "\n",
        "Пользоваться глобальными переменными запрещено, сохранять результаты замера нужно в **атрибуте** функции.\n",
        "Атрибут назовите `calls`."
      ]
    },
    {
      "cell_type": "code",
      "execution_count": 10,
      "metadata": {},
      "outputs": [],
      "source": [
        "# если под количеством рекурсивных вызовов\n",
        "# подразумевалось количество вызовов функции\n",
        "# def calls_counter(func):\n",
        "\n",
        "#     def wrapper(*args, **kwargs):\n",
        "#         wrapper.calls += 1\n",
        "#         return func(*args, **kwargs)\n",
        "\n",
        "#     wrapper.calls = 0\n",
        "#     return wrapper\n",
        "\n",
        "\n",
        "# если под количеством рекурсивных вызовов\n",
        "# понималась глубина рекурсии последнего вызова\n",
        "# def calls_counter(func):\n",
        "#     depth = 0\n",
        "\n",
        "#     @wraps(func)\n",
        "#     def wrapper(*args, **kwargs):\n",
        "#         nonlocal depth\n",
        "#         if depth == 0:\n",
        "#             wrapper.calls = 0\n",
        "#         depth += 1\n",
        "#         wrapper.calls = max(wrapper.calls, depth)\n",
        "#         value =  func(*args, **kwargs)\n",
        "#         depth -= 1\n",
        "#         return value\n",
        "\n",
        "#     wrapper.calls = 0\n",
        "#     return wrapper\n",
        "\n",
        "\n",
        "\n",
        "# еще один вариант: как #1, только сбрасывает счетчик\n",
        "def calls_counter(func):\n",
        "    first = True\n",
        "    \n",
        "    def wrap(*args, **kwargs):\n",
        "        nonlocal first\n",
        "        if first:\n",
        "            first = False\n",
        "            wrap.calls = 1\n",
        "            value = func(*args, **kwargs)\n",
        "            first = True\n",
        "            return value\n",
        "        else:\n",
        "            wrap.calls += 1\n",
        "            return func(*args, **kwargs)\n",
        "\n",
        "    wrap.calls = 0\n",
        "    return wrap\n"
      ]
    },
    {
      "cell_type": "code",
      "metadata": {
        "id": "BqeXH9RH6egZ",
        "colab_type": "code",
        "outputId": "5ce662aa-f72e-4a1b-dd2b-d08642a33a94",
        "colab": {
          "base_uri": "https://localhost:8080/",
          "height": 34
        }
      },
      "source": [
        "@calls_counter\n",
        "def simple_recursive(n):\n",
        "    if n > 0:\n",
        "        simple_recursive(n - 1)\n",
        "\n",
        "simple_recursive(3)\n",
        "\n",
        "assert simple_recursive.calls == 4\n",
        "print(f'Calls: {simple_recursive.calls}')"
      ],
      "execution_count": 11,
      "outputs": [
        {
          "output_type": "stream",
          "name": "stdout",
          "text": "Calls: 4\n"
        }
      ]
    },
    {
      "cell_type": "markdown",
      "metadata": {
        "id": "9rJFTx_G8OIh",
        "colab_type": "text"
      },
      "source": [
        "Бывает полезно оптимизировать вызовы \"тяжёлых\" функций с помощью кеширования.\n",
        "\n",
        "Кеширование (мемоизация)– это сохранение результатов выполнения функций для предотвращения повторных вычислений.\n",
        "Перед вызовом функции проверяется есть ли уже вычисленный результат. Если есть – функция не вызывается,\n",
        "а возвращается сохранённое значение.\n",
        "\n",
        "Реализуйте декоратор для Least Recently Used (LRU) Cache. Пользователь указывает размер кеша\n",
        "`N`, и в кеше сохраняются значения для `N` наборов входных параметров функции, т.е. dict пар \"входные параметры - результат\", причем если в кэше закончилось место, то вытесняется из кеша сначала то,\n",
        "что использовалось давней всего.\n",
        "\n",
        "Для решения задачи рекомендую использовать `OrderedDict` в качестве кэша.\n",
        "\n",
        "Декоратор назовите `@cache`, он должен принимать один параметр – размер кеша. \n",
        "\n",
        "Декоратор не должен затирать основные атрибуты функции: `__name__`, `__doc__`, `__module__`. Вам понадобится одна строчка дополнительная строчка для этого (см. ноутбук по теме)\n",
        "\n",
        "Естественно, вам нельзя пользоваться дефолтным `functools.lru_cache`\n",
        "\n"
      ]
    },
    {
      "cell_type": "code",
      "execution_count": 12,
      "metadata": {},
      "outputs": [],
      "source": [
        "from collections import OrderedDict\n",
        "\n",
        "class LastAccessedOrderedDict(OrderedDict):\n",
        "    def __getitem__(self, key):\n",
        "        value = OrderedDict.__getitem__(self, key)\n",
        "        del self[key]\n",
        "        self[key] = value\n",
        "        return value\n",
        "\n",
        "def cache(cache_size):\n",
        "    def wrap(func):\n",
        "        lru_cache = LastAccessedOrderedDict()\n",
        "        @wraps(func)\n",
        "        def wrapper(*args, **kwargs):\n",
        "            key = tuple(args), frozenset(kwargs.items())\n",
        "            if key not in lru_cache:\n",
        "                value = func(*args, **kwargs)\n",
        "                if len(lru_cache) >= cache_size:\n",
        "                    lru_cache.popitem(last=False)\n",
        "                lru_cache[key] = value\n",
        "            return lru_cache[key]\n",
        "        return wrapper\n",
        "    return wrap"
      ]
    },
    {
      "cell_type": "code",
      "metadata": {
        "id": "mPlafx0d9aK0",
        "colab_type": "code",
        "colab": {}
      },
      "source": [
        "@cache(2)\n",
        "def fibo(n):\n",
        "    fibo.calls += 1\n",
        "    if n <= 1:\n",
        "        return n\n",
        "    return fibo(n - 1) + fibo(n - 2)\n",
        "\n",
        "fibo.calls = 0\n",
        "result3 = fibo(3)\n",
        "\n",
        "assert result3 == 2\n",
        "assert fibo.calls == 5\n",
        "\n",
        "fibo.calls = 0\n",
        "result3 = fibo(3)\n",
        "assert result3 == 2\n",
        "assert fibo.calls == 0\n",
        "\n",
        "fibo(4)\n",
        "fibo(5)\n",
        "\n",
        "fibo.calls = 0\n",
        "result3 = fibo(3)\n",
        "assert result3 == 2\n",
        "assert fibo.calls == 0"
      ],
      "execution_count": 13,
      "outputs": []
    },
    {
      "cell_type": "code",
      "execution_count": null,
      "metadata": {},
      "outputs": [],
      "source": []
    }
  ],
  "metadata": {
    "colab": {
      "name": "DecoratorTasks.ipynb",
      "provenance": [],
      "collapsed_sections": []
    },
    "kernelspec": {
      "name": "python38264bitc9972cb06cb346d9b245a6e242e9f024",
      "display_name": "Python 3.8.2 64-bit"
    }
  },
  "nbformat": 4,
  "nbformat_minor": 0
}