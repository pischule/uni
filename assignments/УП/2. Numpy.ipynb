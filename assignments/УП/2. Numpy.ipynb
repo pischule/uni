{
  "nbformat": 4,
  "nbformat_minor": 0,
  "metadata": {
    "colab": {
      "name": "up_task2.ipynb",
      "provenance": [],
      "collapsed_sections": []
    },
    "kernelspec": {
      "name": "python3",
      "display_name": "Python 3"
    }
  },
  "cells": [
    {
      "cell_type": "markdown",
      "metadata": {
        "id": "-zgN_9pnqS3H",
        "colab_type": "text"
      },
      "source": [
        "Каждая ячейка ниже представляет из себя одно задание.\n",
        "В каждом задании необходимо сделать две вещи:\n",
        "\n",
        "\n",
        "1.   Реализовать функцию, которая делает то, что написано в условии задания\n",
        "2.   Дополнить авторский тест своими. Не нужно переусердствовать - тесты должны быть емкими и полными, т.е. покрывать corner case(особые случаи) задачи, и все\n",
        "\n",
        "В этом ноутбуке запрещено пользоваться циклами и list/expression comprehension, map и т.д.. Все операции должны быть векторными.\n",
        "\n"
      ]
    },
    {
      "cell_type": "markdown",
      "metadata": {
        "id": "mx8bCxZBrqaj",
        "colab_type": "text"
      },
      "source": [
        "# Easy - 1 point per task"
      ]
    },
    {
      "cell_type": "code",
      "metadata": {
        "id": "L22BZvv-8dVR",
        "colab_type": "code",
        "outputId": "1ed7c8f4-1d1e-43f7-f49f-93585d616d3c",
        "colab": {
          "base_uri": "https://localhost:8080/",
          "height": 34
        }
      },
      "source": [
        "# Import numpy as np and print the version of the library\n",
        "import numpy as np\n",
        "print(np.version.version)\n",
        "\n",
        "import sys\n",
        "assert 'numpy' in sys.modules and 'np' in dir()"
      ],
      "execution_count": 1,
      "outputs": [
        {
          "output_type": "stream",
          "text": [
            "1.18.2\n"
          ],
          "name": "stdout"
        }
      ]
    },
    {
      "cell_type": "code",
      "metadata": {
        "id": "rPNdFnYA_0SQ",
        "colab_type": "code",
        "colab": {}
      },
      "source": [
        "from numpy.testing import assert_equal\n",
        "# This utility function will help you in testing your functions\n",
        "# You can read more about it by executing ?assert_equal()\n",
        "\n",
        "def dummy_example():\n",
        "    return np.array([1, 2]) # uncomment this line to pass test\n",
        "\n",
        "assert_equal(dummy_example(), [1, 2])"
      ],
      "execution_count": 0,
      "outputs": []
    },
    {
      "cell_type": "code",
      "metadata": {
        "id": "lyNT5RK8scwG",
        "colab_type": "code",
        "colab": {}
      },
      "source": [
        "# Create array filled with zeros of size 10\n",
        "def create_zero_arr():\n",
        "    return np.zeros(10)\n",
        "\n",
        "assert_equal(create_zero_arr(), [0, 0, 0, 0, 0, 0, 0, 0, 0, 0])"
      ],
      "execution_count": 0,
      "outputs": []
    },
    {
      "cell_type": "code",
      "metadata": {
        "id": "-FMGgmLOsr1m",
        "colab_type": "code",
        "colab": {}
      },
      "source": [
        "# Create matrix with values from 0 to 8 of shape (3, 3)\n",
        "def create_dummy_matrix():\n",
        "    return np.arange(9).reshape(3,3)\n",
        "\n",
        "assert_equal(create_dummy_matrix(), [[0, 1, 2], [3, 4, 5], [6, 7, 8]])"
      ],
      "execution_count": 0,
      "outputs": []
    },
    {
      "cell_type": "code",
      "metadata": {
        "id": "40SjRMm-tKFu",
        "colab_type": "code",
        "colab": {}
      },
      "source": [
        "# Create matrix of shape (N, N) with 1 on the border and 0 otherwise\n",
        "def create_ramochka(N):\n",
        "    matrix = np.zeros((N,N))\n",
        "    matrix[0,:] = 1\n",
        "    matrix[-1,:] = 1\n",
        "    matrix[:,0] = 1\n",
        "    matrix[:,-1] = 1\n",
        "    return matrix\n",
        "\n",
        "assert_equal(create_ramochka(3), [[1, 1, 1], [1, 0, 1], [1, 1, 1]])\n",
        "\n",
        "assert_equal(create_ramochka(4), [[1, 1, 1, 1], [1, 0, 0, 1],[ 1, 0, 0, 1], [1, 1, 1, 1]])\n",
        "assert_equal(create_ramochka(1), [[1]])"
      ],
      "execution_count": 0,
      "outputs": []
    },
    {
      "cell_type": "code",
      "metadata": {
        "id": "9sBenakjt6WS",
        "colab_type": "code",
        "colab": {}
      },
      "source": [
        "# Create matrix of shape (N, N) with сheckboard pattern\n",
        "def create_checkboard(N):\n",
        "    return np.fromfunction(lambda i, j: (j + i + 1) % 2, (N, N), dtype=np.int)\n",
        "\n",
        "assert_equal(create_checkboard(3), [[1, 0, 1], [0, 1, 0], [1, 0, 1]])\n",
        "\n",
        "assert_equal(create_checkboard(2), [[1, 0], [0, 1]])\n",
        "assert_equal(create_checkboard(1), [[1]])"
      ],
      "execution_count": 0,
      "outputs": []
    },
    {
      "cell_type": "code",
      "metadata": {
        "id": "wxEZFQyzpXHV",
        "colab_type": "code",
        "colab": {}
      },
      "source": [
        "# Create numpy array given start value, step and array length\n",
        "def create_arr(start, step, length):\n",
        "    return np.linspace(start, start + step*(length-1), length)\n",
        "\n",
        "assert_equal(create_arr(5, 3, 4), [5, 8, 11, 14])\n",
        "\n",
        "assert_equal(create_arr(0, 0, 3), [0, 0, 0])\n",
        "assert_equal(create_arr(0, -1, 3), [0, -1, -2])\n",
        "assert_equal(create_arr(0, 0, 0), [])"
      ],
      "execution_count": 0,
      "outputs": []
    },
    {
      "cell_type": "code",
      "metadata": {
        "id": "goL2TgF5AMy9",
        "colab_type": "code",
        "colab": {}
      },
      "source": [
        "# Extract all even numbers from array\n",
        "def extract_even(arr):\n",
        "    np_arr = np.array(arr)\n",
        "    filter_arr = np_arr % 2 == 0\n",
        "    return np_arr[filter_arr]\n",
        "\n",
        "assert_equal(extract_even([1, 2, 3, 4]), [2, 4])\n",
        "\n",
        "assert_equal(extract_even([1, 1, 1]), [])\n",
        "assert_equal(extract_even([]), [])\n",
        "assert_equal(extract_even([0, -2, 2, -1, 1]), [0, -2, 2])"
      ],
      "execution_count": 0,
      "outputs": []
    },
    {
      "cell_type": "code",
      "metadata": {
        "id": "Zk71Cs6QBR1U",
        "colab_type": "code",
        "colab": {}
      },
      "source": [
        "# Replace all even numbers with -1\n",
        "def replace_even(arr):\n",
        "    np_arr = np.array(arr)\n",
        "    filter_arr = np_arr % 2 == 0\n",
        "    np_arr[filter_arr] = -1\n",
        "    return np_arr\n",
        "\n",
        "assert_equal(replace_even([1, 2, 3]), [1, -1, 3])\n",
        "\n",
        "assert_equal(replace_even([-1]), [-1])\n",
        "assert_equal(replace_even([]), [])\n",
        "assert_equal(replace_even([-2, 2, -1]), [-1, -1, -1])"
      ],
      "execution_count": 0,
      "outputs": []
    },
    {
      "cell_type": "code",
      "metadata": {
        "id": "uiITDOQSBh9y",
        "colab_type": "code",
        "colab": {}
      },
      "source": [
        "# Convert 1D array of size N to 2D array of shape (sqrt(N), sqrt(N))\n",
        "def quadratize(arr):\n",
        "    rows = int(len(arr)**.5)\n",
        "    return np.reshape(arr, (-1 if rows else 0, rows))\n",
        "\n",
        "assert_equal(quadratize([1, 2, 3, 4]), [[1, 2], [3, 4]])\n",
        "\n",
        "assert_equal(quadratize([]), np.empty((0,0), dtype=np.int))\n",
        "assert_equal(quadratize([1]), [[1]])"
      ],
      "execution_count": 0,
      "outputs": []
    },
    {
      "cell_type": "code",
      "metadata": {
        "id": "bJIZGiK7DvX7",
        "colab_type": "code",
        "colab": {}
      },
      "source": [
        "# Convert 1D array of size N to 2D array of shape (N, N) repeating each element along the row\n",
        "def row_repeatizer(arr):\n",
        "    np_arr = np.reshape(arr, (-1, 1))\n",
        "    return np.repeat(np_arr, np_arr.size, axis=1)\n",
        "\n",
        "assert_equal(row_repeatizer([1, 2, 3]), [[1, 1, 1], [2, 2, 2], [3, 3, 3]])\n",
        "\n",
        "assert_equal(row_repeatizer([1]), [[1]])\n",
        "assert_equal(row_repeatizer([3.14,2.72]), [[3.14, 3.14], [2.72,2.72]])\n",
        "assert_equal(row_repeatizer([]), np.empty((0, 0)))"
      ],
      "execution_count": 0,
      "outputs": []
    },
    {
      "cell_type": "code",
      "metadata": {
        "id": "XEeldyIXEHCg",
        "colab_type": "code",
        "colab": {}
      },
      "source": [
        "# Perform set operations over 1D arrays and sort the result in ascending way\n",
        "def intersection(arr1, arr2):\n",
        "    return np.intersect1d(arr1, arr2)\n",
        "\n",
        "def union(arr1, arr2):\n",
        "    return np.union1d(arr1, arr2)\n",
        "\n",
        "def difference(arr1, arr2):\n",
        "    return np.setdiff1d(arr1, arr2)\n",
        "\n",
        "def symmetric_difference(arr1, arr2):\n",
        "    return np.setxor1d(arr1, arr2)\n",
        "\n",
        "assert_equal(intersection([1, 2, 3], [4, 1, 2]), [1, 2])\n",
        "assert_equal(union([1, 2, 3], [4, 1, 2]), [1, 2, 3, 4])\n",
        "assert_equal(difference([1, 2, 3], [4, 1, 2]), [3])\n",
        "assert_equal(symmetric_difference([1, 2, 3], [4, 1, 2]), [3, 4])\n",
        "\n",
        "\n",
        "assert_equal(intersection([1, 2], [2, 1]), [1, 2])\n",
        "assert_equal(union([], []), [])\n",
        "assert_equal(difference([1], [4, 1, 2]), [])\n",
        "assert_equal(symmetric_difference([1, 2, 3], [3, 2, 1]), [])"
      ],
      "execution_count": 0,
      "outputs": []
    },
    {
      "cell_type": "code",
      "metadata": {
        "id": "k5bCYG9uEHM8",
        "colab_type": "code",
        "colab": {}
      },
      "source": [
        "# Extract all numbers (and their indices) from array that are not greater than 65 and not less than 18"
      ],
      "execution_count": 0,
      "outputs": []
    },
    {
      "cell_type": "code",
      "metadata": {
        "id": "BFa4djJjEHLV",
        "colab_type": "code",
        "colab": {}
      },
      "source": [
        "def pensionazier(arr):\n",
        "    np_arr = np.array(arr)\n",
        "    mask = (18 <= np_arr) & (np_arr <= 65)\n",
        "    result_numbers = np_arr[mask]\n",
        "    result_indices = np.arange(np_arr.size)[mask]\n",
        "    return np.vstack((result_numbers, result_indices))\n",
        "\n",
        "assert_equal(pensionazier([17, 20, 5, 18, 66]), [[20, 18], [1, 3]])\n",
        "\n",
        "assert_equal(pensionazier([]), [[], []])\n",
        "assert_equal(pensionazier([17, 18, 19, 64, 65, 66]), [[18, 19, 64, 65], [1, 2, 3, 4]])"
      ],
      "execution_count": 0,
      "outputs": []
    },
    {
      "cell_type": "code",
      "metadata": {
        "id": "kmQd38VoFp4r",
        "colab_type": "code",
        "colab": {}
      },
      "source": [
        "# Swap first and second column in matrix\n",
        "def column_swapper(arr):\n",
        "    matrix = np.array(arr)\n",
        "    matrix[:,0], matrix[:,1] = matrix[:,1].copy(), matrix[:,0].copy()\n",
        "    return matrix\n",
        "\n",
        "assert_equal(column_swapper([[1, 2], [3, 4]]), [[2, 1], [4, 3]])\n",
        "\n",
        "assert_equal(column_swapper([[1, 2], [3, 4], [5, 6]]), [[2, 1], [4, 3], [6, 5]])\n",
        "assert_equal(column_swapper([[1, 2]]), [[2, 1]])"
      ],
      "execution_count": 0,
      "outputs": []
    },
    {
      "cell_type": "code",
      "metadata": {
        "id": "Jen9fpD_Fp7J",
        "colab_type": "code",
        "colab": {}
      },
      "source": [
        "# Create random matrix NxN containing random values between 1 and 3\n",
        "def random_matrix(N):\n",
        "    return np.random.randint(1, 4, size=(N,N))\n",
        "\n",
        "matrix = random_matrix(3)\n",
        "assert_equal((matrix >= 1) & (matrix <= 3), np.ones_like(matrix).astype(np.bool))\n",
        "del matrix\n",
        "\n",
        "matrix = random_matrix(1)\n",
        "assert_equal((matrix < 1) | (matrix > 3), np.zeros_like(matrix, dtype =np.bool))\n",
        "del matrix"
      ],
      "execution_count": 0,
      "outputs": []
    },
    {
      "cell_type": "code",
      "metadata": {
        "id": "KYjy1Macghgb",
        "colab_type": "code",
        "colab": {}
      },
      "source": [
        "# Compute max for each row of a matrix\n",
        "def row_max(arr):\n",
        "    return np.array(arr).max(axis=1)\n",
        "\n",
        "assert_equal(row_max([[1, 2], [17, 14]]), [2, 17])\n",
        "\n",
        "assert_equal(row_max([[42]]), [42])\n",
        "assert_equal(row_max([[1, 1], [1, 1]]), [1, 1])"
      ],
      "execution_count": 0,
      "outputs": []
    },
    {
      "cell_type": "code",
      "metadata": {
        "id": "RBzw3fZ4jEl6",
        "colab_type": "code",
        "colab": {}
      },
      "source": [
        "# Compute euclidean distance between two arrays\n",
        "from numpy.testing import assert_almost_equal\n",
        "def eucled_distance(arr1, arr2):\n",
        "    np_arr1 = np.array(arr1)\n",
        "    np_arr2 = np.array(arr2)\n",
        "    return ((np_arr1 - np_arr2)**2).sum()**.5\n",
        "\n",
        "assert_almost_equal(eucled_distance([1, 2, 3, 4, 5], [4, 5, 6, 7, 8]), 6.7082039324993694)\n",
        "\n",
        "assert_almost_equal(eucled_distance([1, 2, 3, 4, 5], [1, 2, 3, 4, 5]), 0)\n",
        "assert_almost_equal(eucled_distance([], []), 0)\n",
        "assert_almost_equal(eucled_distance([-1], [1]), 2)"
      ],
      "execution_count": 0,
      "outputs": []
    },
    {
      "cell_type": "markdown",
      "metadata": {
        "id": "UqEqVRNhr5ss",
        "colab_type": "text"
      },
      "source": [
        "# Medium - 2 points per task"
      ]
    },
    {
      "cell_type": "code",
      "metadata": {
        "id": "_l_IHj3BFp2C",
        "colab_type": "code",
        "colab": {}
      },
      "source": [
        "# Write a function that takes scalar X and calculates CDF(X) for gaussian distribution N(0, 1)\n",
        "# Vectorize this function using numpy\n",
        "from numpy.testing import assert_almost_equal\n",
        "import math\n",
        "\n",
        "def cdf(x):\n",
        "    return (1.0 + math.erf(x / math.sqrt(2))) / 2\n",
        "\n",
        "vectorized_cdf = np.vectorize(cdf)\n",
        "\n",
        "assert_almost_equal(vectorized_cdf([-1, 0, 1]), [0.15866, 0.5, 0.84134], decimal=5)\n",
        "\n",
        "assert_almost_equal(vectorized_cdf([0]), [.5], decimal=5)"
      ],
      "execution_count": 0,
      "outputs": []
    },
    {
      "cell_type": "code",
      "metadata": {
        "id": "txABrsKNJid6",
        "colab_type": "code",
        "outputId": "57132722-330b-49f3-b858-b0b48da38b12",
        "colab": {
          "base_uri": "https://localhost:8080/",
          "height": 34
        }
      },
      "source": [
        "# (just run this) Download IRIS dataset to your local computer and import one column from there with sepal lengths\n",
        "!wget -nv -O iris.data http://archive.ics.uci.edu/ml/machine-learning-databases/iris/iris.data\n",
        "sepal_length = np.genfromtxt('iris.data', delimiter=',', dtype='object', usecols=[0]).astype(np.float)"
      ],
      "execution_count": 20,
      "outputs": [
        {
          "output_type": "stream",
          "text": [
            "2020-04-18 19:49:15 URL:http://archive.ics.uci.edu/ml/machine-learning-databases/iris/iris.data [4551/4551] -> \"iris.data\" [1]\n"
          ],
          "name": "stdout"
        }
      ]
    },
    {
      "cell_type": "code",
      "metadata": {
        "id": "8pEtPbC9MMAC",
        "colab_type": "code",
        "colab": {}
      },
      "source": [
        "# Convert IRIS data to 2D array of numbers omitting the last column (species) with text\n",
        "iris_data = np.loadtxt('iris.data', delimiter=',', usecols=(0, 1, 2, 3))"
      ],
      "execution_count": 0,
      "outputs": []
    },
    {
      "cell_type": "code",
      "metadata": {
        "id": "qi7KZ6ydJinA",
        "colab_type": "code",
        "colab": {}
      },
      "source": [
        "# Calculate mean, median, standard deviation of sepal_length\n",
        "\n",
        "def sepal_statistic(arr):\n",
        "    np_arr = np.array(arr)\n",
        "    return [np.mean(np_arr), np.median(np_arr), np.std(np_arr)]\n",
        "\n",
        "assert_almost_equal(sepal_statistic(sepal_length), [5.84333333333, 5.8, 0.825301291785])\n",
        "\n",
        "assert_almost_equal(sepal_statistic(iris_data[:1]), [2.55, 2.45, 1.8874586088176872])"
      ],
      "execution_count": 0,
      "outputs": []
    },
    {
      "cell_type": "code",
      "metadata": {
        "id": "10NCW2ihLn-j",
        "colab_type": "code",
        "colab": {}
      },
      "source": [
        "# Normalize sepal_length such that all values lie between 0 and 1\n",
        "def sepal_normalize(arr):\n",
        "    np_arr = np.array(arr)\n",
        "    if not np_arr.size:\n",
        "        return np_arr\n",
        "    max_val = np.max(np.abs(np_arr))\n",
        "    min_val = np.min(np.abs(np_arr))\n",
        "    if max_val != min_val:\n",
        "        return (np_arr - min_val) / (max_val - min_val)\n",
        "    return np.zeros_like(arr)\n",
        "\n",
        "normalized = sepal_normalize(sepal_length)\n",
        "assert_equal((normalized >= 0) & (normalized <= 1), np.ones_like(normalized).astype(np.bool))\n",
        "\n",
        "assert_equal(sepal_normalize([]), [])\n",
        "normalized = sepal_normalize([10, 10, 10])\n",
        "assert_equal(normalized, np.ones_like(normalized)*normalized[0])"
      ],
      "execution_count": 0,
      "outputs": []
    },
    {
      "cell_type": "code",
      "metadata": {
        "id": "fIMvhseiJis-",
        "colab_type": "code",
        "colab": {}
      },
      "source": [
        "# Find 25%, 50%, 75% percentile of sepal length\n",
        "def sepal_percentile(arr):\n",
        "    np_arr = np.array(arr)\n",
        "    return [np.percentile(np_arr, 25), \n",
        "            np.percentile(np_arr, 50),\n",
        "            np.percentile(np_arr, 75)]\n",
        "\n",
        "assert_almost_equal(sepal_percentile(sepal_length), [5.1, 5.8, 6.4])\n",
        "\n",
        "assert_almost_equal(sepal_percentile([1]), [1, 1, 1])\n",
        "assert_almost_equal(sepal_percentile([20, 2, 7, 1, 34]), [2, 7, 20])"
      ],
      "execution_count": 0,
      "outputs": []
    },
    {
      "cell_type": "code",
      "metadata": {
        "id": "_Eijw6DnMxch",
        "colab_type": "code",
        "outputId": "a6404528-bc75-4f30-f9e1-891f2ca57f7e",
        "colab": {
          "base_uri": "https://localhost:8080/",
          "height": 34
        }
      },
      "source": [
        "# Insert 10 np.nan values into sepal_length_with_nan array and print their indices\n",
        "sepal_length_with_nan = sepal_length.copy()\n",
        "\n",
        "sepal_length_with_nan = np.hstack((np.empty(10) * np.nan, sepal_length_with_nan))\n",
        "print(np.argwhere(np.isnan(sepal_length_with_nan)).flatten())\n",
        "\n",
        "assert_equal(np.sum(np.isnan(sepal_length_with_nan)), 10)"
      ],
      "execution_count": 25,
      "outputs": [
        {
          "output_type": "stream",
          "text": [
            "[0 1 2 3 4 5 6 7 8 9]\n"
          ],
          "name": "stdout"
        }
      ]
    },
    {
      "cell_type": "code",
      "metadata": {
        "id": "Ma8pT6vnNiPI",
        "colab_type": "code",
        "colab": {}
      },
      "source": [
        "# Drop np.nan values from sepal_length_with_nan and save the result to sepal_length_without_nan\n",
        "# DO NOT MODIFY sepal_length_with_nan !!!\n",
        "\n",
        "sepal_length_without_nan = sepal_length_with_nan[np.logical_not(np.isnan(sepal_length_with_nan))]\n",
        "\n",
        "assert_equal(sepal_length, sepal_length_without_nan)"
      ],
      "execution_count": 0,
      "outputs": []
    },
    {
      "cell_type": "code",
      "metadata": {
        "id": "YdCB09YHObr-",
        "colab_type": "code",
        "colab": {}
      },
      "source": [
        "# Replace all np.nan with -1 in sepal_length_with_nan and save the result to sepal_length_replaced\n",
        "\n",
        "sepal_length_replaced = np.nan_to_num(sepal_length_with_nan, nan=-1)\n",
        "\n",
        "assert_equal(np.isnan(sepal_length_with_nan), sepal_length_replaced == -1)"
      ],
      "execution_count": 0,
      "outputs": []
    },
    {
      "cell_type": "code",
      "metadata": {
        "id": "wovFsDzbO9FS",
        "colab_type": "code",
        "colab": {}
      },
      "source": [
        "# Drop all duplicates from array and sort the result in ascending way\n",
        "def uniquezier(arr):\n",
        "    return np.unique(np.array(arr))\n",
        "\n",
        "assert_equal(uniquezier([3, 1, 2, 2, 3, 1, 4]), [1, 2, 3, 4])\n",
        "\n",
        "assert_equal(uniquezier([]), [])\n",
        "assert_equal(uniquezier([1]), [1])\n",
        "assert_equal(uniquezier([1, 1, 1]), [1])"
      ],
      "execution_count": 0,
      "outputs": []
    },
    {
      "cell_type": "code",
      "metadata": {
        "id": "BwKF29AIPABK",
        "colab_type": "code",
        "colab": {}
      },
      "source": [
        "# Find the most frequent element in array (in case of several possible answers return the lowest number)\n",
        "def most_frequent(arr):\n",
        "    unique, counts = np.unique(arr, return_counts=True)\n",
        "    return unique[np.argmax(counts)]\n",
        "\n",
        "assert_equal(most_frequent([1, 2, -4, 5, -4, 2, -4, 2]), -4)\n",
        "\n",
        "assert_equal(most_frequent([1]), 1)\n",
        "assert_equal(most_frequent([2, 1, 1, 1, 1]), 1)\n",
        "assert_equal(most_frequent([2, 1, 2, 1]), 1)"
      ],
      "execution_count": 0,
      "outputs": []
    },
    {
      "cell_type": "code",
      "metadata": {
        "id": "GqWJPZ4zPrbJ",
        "colab_type": "code",
        "colab": {}
      },
      "source": [
        "# Clip all the values in array to interval from 1e-3 to 1\n",
        "def clipper(arr):\n",
        "    return np.clip(arr, 1e-3, 1)\n",
        "\n",
        "assert_equal(clipper([0, 1e-3, 3]), [1e-3, 1e-3, 1])\n",
        "\n",
        "assert_equal(clipper([]), [])\n",
        "assert_equal(clipper([1e-3 - 1e-5, 1 - 1e-5, 1 + 1e-5]), [1e-3, 1 - 1e-5, 1])"
      ],
      "execution_count": 0,
      "outputs": []
    },
    {
      "cell_type": "code",
      "metadata": {
        "id": "Ucr-bc7IPA6E",
        "colab_type": "code",
        "colab": {}
      },
      "source": [
        "# Get the positions of top K largest values in array\n",
        "def k_largest_indices(arr, k):\n",
        "    return np.argsort(arr)[-k:][::-1] if k > 0 else []\n",
        "\n",
        "assert_equal(k_largest_indices([1, -2, 4, 56, 17, 0], 3), [3, 4, 2])\n",
        "\n",
        "assert_equal(k_largest_indices([1, -2], 3), [0, 1])\n",
        "assert_equal(k_largest_indices([], 1), [])\n",
        "assert_equal(k_largest_indices([1, 2, 3], 0), [])\n",
        "assert_equal(np.sort(k_largest_indices([1, 10, 10, 1], 2)), [1, 2])"
      ],
      "execution_count": 0,
      "outputs": []
    },
    {
      "cell_type": "code",
      "metadata": {
        "id": "vD-Ih2dafTlD",
        "colab_type": "code",
        "colab": {}
      },
      "source": [
        "# Compute min-by-max for rows of matrix.\n",
        "# Min-by-max is a transform of a matrix where each row is replaced by min in the tow divided by max in the row\n",
        "def row_min_by_max(arr):\n",
        "    np_arr = np.array(arr)\n",
        "    return np.min(np_arr, axis=1)/np.max(np_arr, axis=1)\n",
        "\n",
        "assert_equal(row_min_by_max([[1, 2], [15, 3]]), [0.5, 0.2])\n",
        "\n",
        "assert_equal(row_min_by_max([[-1], [2]]), [1, 1])\n",
        "assert_equal(row_min_by_max([[1, 2, 3, 1, 4, -1]]), [-1/4])"
      ],
      "execution_count": 0,
      "outputs": []
    },
    {
      "cell_type": "code",
      "metadata": {
        "id": "631kvX7ZjEtS",
        "colab_type": "code",
        "colab": {}
      },
      "source": [
        "# Subtract 1D array from 2D array such that first element subtracts from the first row, second element for the second row and etc.\n",
        "def row_subtract(arr, matrix):\n",
        "    return (np.array(matrix).T - arr).T\n",
        "\n",
        "assert_equal(row_subtract([1, 2, 3], [[3, 3, 3], [4, 4, 4], [5, 5, 5]]), 2 * np.ones((3, 3)))\n",
        "\n",
        "assert_equal(row_subtract([1], [[1]]), [[0]])\n",
        "assert_equal(row_subtract([1, 1, 1], np.ones((3, 3))), np.zeros((3, 3)))"
      ],
      "execution_count": 0,
      "outputs": []
    },
    {
      "cell_type": "code",
      "metadata": {
        "id": "5B4sBIHnuWQq",
        "colab_type": "code",
        "colab": {}
      },
      "source": [
        "# Compute (A + B) / A where A,B are arrays in-place (with no copy). Compute in-place of A\n",
        "# NOTE: return (a + b) / a is not a correct solution !\n",
        "a = np.array([1.0, 2.0, 3.0])\n",
        "b = np.array([4.0, 5.0, 6.0])\n",
        "\n",
        "np.divide(b, a, out=a)\n",
        "a+=1\n",
        "\n",
        "assert_equal(a, [5, 3.5, 3])\n",
        "del a\n",
        "del b"
      ],
      "execution_count": 0,
      "outputs": []
    },
    {
      "cell_type": "code",
      "metadata": {
        "id": "ekvN8RbTzM54",
        "colab_type": "code",
        "colab": {}
      },
      "source": [
        "# Consider matrix of shape (N, 2) as a number of cartesian points\n",
        "# Convert these points to polar points\n",
        "def to_polar(arr):\n",
        "    np_arr = np.array(arr, np.complex)\n",
        "    complex_arr = np_arr[:,0] + np_arr[:,1] *1j\n",
        "    return np.column_stack((np.abs(complex_arr), np.angle(complex_arr)))\n",
        "\n",
        "# 🐞🐞🐞\n",
        "# assert_almost_equal(to_polar([[1, 0], [1, 0]]), [[0, 1], [1, np.pi / 2]])\n",
        "assert_almost_equal(to_polar([[0, 1], [1, 0]]), [[1, np.pi/2], [1, 0]])\n",
        "\n",
        "assert_almost_equal(to_polar([[-1, 0], [-1, -1], [1, 1]]), [[1, np.pi], [2**.5, -3/4*np.pi], [2**.5, np.pi/4]])"
      ],
      "execution_count": 0,
      "outputs": []
    },
    {
      "cell_type": "code",
      "metadata": {
        "id": "qE2fKgkH0Rt0",
        "colab_type": "code",
        "colab": {}
      },
      "source": [
        "# Find element in array closest to given value. In case of duality return the first one\n",
        "def find_closest(arr, value):\n",
        "    np_arr = np.abs(np.array(arr) - value)\n",
        "    return arr[np.argmin(np_arr)]\n",
        "\n",
        "assert_equal(find_closest([1, 2, 3], 1.7), 2)\n",
        "\n",
        "assert_equal(find_closest([1, 2, 3], 1.5), 1)\n",
        "assert_equal(find_closest([1], 42), 1)"
      ],
      "execution_count": 0,
      "outputs": []
    },
    {
      "cell_type": "markdown",
      "metadata": {
        "id": "sQ0y4n6MsUTf",
        "colab_type": "text"
      },
      "source": [
        "# Hard - 3 points per task"
      ]
    },
    {
      "cell_type": "code",
      "metadata": {
        "id": "1HQ8pMwFfcEY",
        "colab_type": "code",
        "colab": {}
      },
      "source": [
        "# Find duplicate entries (2nd occurrence onwards) in array and mark them as True\n",
        "# First time occurrences should be False.\n",
        "def mark_duplicates(arr):\n",
        "    np_arr = np.array(arr)\n",
        "    mask = np.ones_like(np_arr, dtype=np.bool)\n",
        "    unique, indices = np.unique(np_arr, return_index=True)\n",
        "    mask[indices] = False\n",
        "    return mask\n",
        "\n",
        "assert_equal(mark_duplicates([0, 0, 3, 0, 2, 4, 2, 2]), [False, True, False, True, False, False, True, True])\n",
        "\n",
        "assert_equal(mark_duplicates([0, 0, 0]), [False, True, True])\n",
        "assert_equal(mark_duplicates([0, 1, 2]), [False, False, False])\n",
        "assert_equal(mark_duplicates([0]), [False])"
      ],
      "execution_count": 0,
      "outputs": []
    },
    {
      "cell_type": "code",
      "metadata": {
        "id": "tKAbe7prjEpo",
        "colab_type": "code",
        "colab": {}
      },
      "source": [
        "# Challenging\n",
        "# Find all local maxima in 1D array. Local maximum is an element, surrounded by lesser elements from both sides\n",
        "def find_local_maxima(arr):\n",
        "    np_arr = np.array(arr)\n",
        "    go_up = (np_arr[1:-1] - np_arr[:-2]) > 0\n",
        "    go_down = (np_arr[1:-1] - np_arr[2:]) > 0\n",
        "    return np.arange(1, np_arr.size-1)[np.logical_and(go_up, go_down)]\n",
        "\n",
        "assert_equal(find_local_maxima([1, 3, 7, 1, 2, 6, 0, 1]), [2, 5])\n",
        "\n",
        "assert_equal(find_local_maxima([1, 1, 1, 1]), [])\n",
        "assert_equal(find_local_maxima([0, 1, 1, 0, -1, -1, 0]), [])\n",
        "assert_equal(find_local_maxima([0,-1, 0]), [])\n",
        "assert_equal(find_local_maxima([0, 0, 1, 0, 100, 0]), [2, 4])"
      ],
      "execution_count": 0,
      "outputs": []
    },
    {
      "cell_type": "code",
      "metadata": {
        "id": "czSGwSkMpXJ8",
        "colab_type": "code",
        "outputId": "fc24119a-f5a7-4dc2-8df7-1538e722720b",
        "colab": {
          "base_uri": "https://localhost:8080/",
          "height": 34
        }
      },
      "source": [
        " # Make array IMMUTABLE immutable\n",
        "IMMUTABLE = np.array([1, 2, 3])\n",
        "\n",
        "IMMUTABLE.flags.writeable = False\n",
        "\n",
        "try:\n",
        "    IMMUTABLE[2] = 1\n",
        "except ValueError:\n",
        "    print('Well done')\n",
        "else:\n",
        "    print('Try again')"
      ],
      "execution_count": 39,
      "outputs": [
        {
          "output_type": "stream",
          "text": [
            "Well done\n"
          ],
          "name": "stdout"
        }
      ]
    },
    {
      "cell_type": "code",
      "metadata": {
        "id": "wnYBcCKnz0mw",
        "colab_type": "code",
        "colab": {}
      },
      "source": [
        "# Construct Cauchy matrix from arrays X and Y\n",
        "# c[i, j]  = 1 / (x[i] - y[j])\n",
        "def cauchy_matrix(X, Y):\n",
        "    x, y = np.array([X]), np.array([Y])\n",
        "    return  1 / (x.T @ np.ones_like(x) - np.ones_like(y).T @ y)\n",
        "\n",
        "assert_almost_equal(cauchy_matrix([1, 2], [3, 6]), [[-0.5, -0.2], [-1.0, -0.25]])\n",
        "\n",
        "assert_almost_equal(cauchy_matrix([2, 2], [1, 1]), [[1, 1], [1, 1]])"
      ],
      "execution_count": 0,
      "outputs": []
    },
    {
      "cell_type": "markdown",
      "metadata": {
        "id": "8WmbO6oJ1Rx-",
        "colab_type": "text"
      },
      "source": [
        "# You are at your own :) - 4 points per task"
      ]
    },
    {
      "cell_type": "code",
      "metadata": {
        "id": "G2qWReHC3t3t",
        "colab_type": "code",
        "outputId": "1ba8d49f-19d0-4e2e-8d10-621364839eb4",
        "colab": {
          "base_uri": "https://localhost:8080/",
          "height": 52
        }
      },
      "source": [
        "# Download few images\n",
        "!wget -nv -O pusheen.png https://user-images.githubusercontent.com/41614960/79635493-e61e6900-8179-11ea-8266-5749fb077008.png \n",
        "!wget -nv -O thermometer.png https://user-images.githubusercontent.com/41614960/79635555-4f9e7780-817a-11ea-952e-35ae3c92d10b.png "
      ],
      "execution_count": 41,
      "outputs": [
        {
          "output_type": "stream",
          "text": [
            "2020-04-18 19:49:17 URL:https://user-images.githubusercontent.com/41614960/79635493-e61e6900-8179-11ea-8266-5749fb077008.png [5085/5085] -> \"pusheen.png\" [1]\n",
            "2020-04-18 19:49:19 URL:https://user-images.githubusercontent.com/41614960/79635555-4f9e7780-817a-11ea-952e-35ae3c92d10b.png [19366/19366] -> \"thermometer.png\" [1]\n"
          ],
          "name": "stdout"
        }
      ]
    },
    {
      "cell_type": "markdown",
      "metadata": {
        "id": "rKh0oOJL2G78",
        "colab_type": "text"
      },
      "source": [
        "|        pusheen.png | thermometer.png|    \n",
        "|--------------------|----------------|\n",
        "|![](https://user-images.githubusercontent.com/41614960/79635493-e61e6900-8179-11ea-8266-5749fb077008.png)|![](https://user-images.githubusercontent.com/41614960/79635555-4f9e7780-817a-11ea-952e-35ae3c92d10b.png)|"
      ]
    },
    {
      "cell_type": "code",
      "metadata": {
        "id": "UeYkoJPh1RT9",
        "colab_type": "code",
        "colab": {}
      },
      "source": [
        "# Compute number of unique colors in an image. Image is an array of shape (W, H, 3) containing integers, color is a tuple of 3 values, e.g. image[i, j] is a color\n",
        "def unique_colors(image):\n",
        "    img = np.array(image)\n",
        "    return np.unique(img.reshape(-1, 3), axis=0).shape[0]\n",
        "\n",
        "\n",
        "from matplotlib.image import imread\n",
        "img1 = imread('pusheen.png')[...,:3] # because of alpha layer\n",
        "img2 = imread('thermometer.png')\n",
        "\n",
        "assert_equal(unique_colors(img1), 5)\n",
        "assert_equal(unique_colors(img2), 2)"
      ],
      "execution_count": 0,
      "outputs": []
    },
    {
      "cell_type": "code",
      "metadata": {
        "id": "YNcP93E41uf1",
        "colab_type": "code",
        "colab": {}
      },
      "source": [
        "# Given image compute sum over first two axis (at once). Explain the meaning of the result\n",
        "def sum_over_two_axis(image):\n",
        "    return np.sum(image, axis=(0, 1))\n",
        "\n",
        "# То, что я нашел -- интенсивность всех цветов изображения\n",
        "# если это значение разделить на количество пикселей, то получим\n",
        "# средний цвет изображения\n",
        "# В условии имелось в виду найти это или интегральное изображение?\n",
        "\n",
        "assert_almost_equal(sum_over_two_axis(img1), [13933.0205, 13206.988 , 12817.705], decimal=2)\n",
        "assert_almost_equal(sum_over_two_axis(img2), [131307., 131307., 131307.], decimal=2)"
      ],
      "execution_count": 0,
      "outputs": []
    },
    {
      "cell_type": "code",
      "metadata": {
        "id": "YaXWVCpe2EqV",
        "colab_type": "code",
        "colab": {}
      },
      "source": [
        "# Given 1D array insert zero between each pair of elements\n",
        "def zero_between(arr):\n",
        "    odd = len(arr) % 2 == 1\n",
        "    if odd:\n",
        "        arr.append(arr[0])\n",
        "    pairs = np.reshape(arr, (-1, 2))\n",
        "    res = np.hstack((np.zeros((pairs.shape[0], 1)), pairs)).reshape(1,-1)[0,1:]\n",
        "    return res[:-1] if odd else res\n",
        "\n",
        "assert_equal(zero_between([]), [])\n",
        "assert_equal(zero_between([1]), [1])\n",
        "assert_equal(zero_between([1, 2]), [1, 2])\n",
        "assert_equal(zero_between([1, 2, 3, 4]), [1, 2, 0, 3, 4])\n",
        "assert_equal(zero_between([1, 2, 3, 4, 5]), [1, 2, 0, 3, 4, 0, 5])"
      ],
      "execution_count": 0,
      "outputs": []
    },
    {
      "cell_type": "code",
      "metadata": {
        "id": "9mRfJrGO2q98",
        "colab_type": "code",
        "colab": {}
      },
      "source": [
        "# Just simply compute matrix rank :)\n",
        "def matrix_rank(arr):\n",
        "    return np.linalg.matrix_rank(arr)\n",
        "\n",
        "assert_equal(matrix_rank([[1, 0, 1], [-2, -3, 1], [3, 3, 0]]), 2)\n",
        "assert_equal(matrix_rank([[1, 1], [2, 2]]), 1)\n",
        "assert_equal(matrix_rank([[1]]), 1)"
      ],
      "execution_count": 0,
      "outputs": []
    },
    {
      "cell_type": "code",
      "metadata": {
        "id": "-UxW6bC93QE9",
        "colab_type": "code",
        "colab": {}
      },
      "source": [
        "# Given an arbitrary number of arrays, build the cartesian product (every combinations of every item)\n",
        "def cartesian_product(arrays):\n",
        "    return np.array(np.meshgrid(*arrays)).T.reshape(-1, len(arrays))\n",
        "\n",
        "arrays1 = [[1, 2, 3], [4, 5], [6]]\n",
        "arrays2 = [[1]]\n",
        "product1 = [[1, 4, 6],\n",
        "            [1, 5, 6],\n",
        "            [2, 4, 6],\n",
        "            [2, 5, 6],\n",
        "            [3, 4, 6],\n",
        "            [3, 5, 6]]\n",
        "product2 = [[1]]\n",
        "\n",
        "assert_equal(cartesian_product(arrays1), product1)\n",
        "assert_equal(cartesian_product(arrays2), product2)"
      ],
      "execution_count": 0,
      "outputs": []
    },
    {
      "cell_type": "code",
      "metadata": {
        "id": "2QDQ7jIc3nZ4",
        "colab_type": "code",
        "colab": {}
      },
      "source": [
        "# Extract from matrix rows with unequal elements\n",
        "# [[1, 2, 2], [3, 3, 3], [4, 4, 4]] -> [[1, 2, 2]]\n",
        "def extract_unequal_rows(arr):\n",
        "    a = np.array(arr)\n",
        "    b = a[...,0].reshape(-1, 1) @ np.ones((1, len(arr)))\n",
        "    mask = (a == b).all(axis=0)\n",
        "    return a[mask]\n",
        "\n",
        "\n",
        "assert_equal(extract_unequal_rows([[1, 2, 2], [3, 3, 3], [4, 4, 4]]), [[1, 2, 2]])"
      ],
      "execution_count": 0,
      "outputs": []
    }
  ]
}