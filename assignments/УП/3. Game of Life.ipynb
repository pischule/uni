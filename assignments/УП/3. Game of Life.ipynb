{
  "nbformat": 4,
  "nbformat_minor": 0,
  "metadata": {
    "kernelspec": {
      "display_name": "Python 3",
      "language": "python",
      "name": "python3"
    },
    "language_info": {
      "codemirror_mode": {
        "name": "ipython",
        "version": 3
      },
      "file_extension": ".py",
      "mimetype": "text/x-python",
      "name": "python",
      "nbconvert_exporter": "python",
      "pygments_lexer": "ipython3",
      "version": "3.6.3"
    },
    "deepnote_notebook_id": "bdf196aa-e770-41dd-82a6-99918327be6e",
    "deepnote_execution_queue": [],
    "colab": {
      "name": "Game of Ocean.ipynb",
      "provenance": [],
      "collapsed_sections": []
    }
  },
  "cells": [
    {
      "cell_type": "markdown",
      "metadata": {
        "tags": [],
        "cell_id": "e1cbb1df-7afe-4406-a6a3-d29e3a41e82e",
        "id": "5vgMIOHANhtE",
        "colab_type": "text"
      },
      "source": [
        "## ИГРА КРЕВЕТОК С РЫБАМИ\n",
        "\n",
        "### Предисловие\n",
        "\n",
        "Океан представляется двумерным массивом ячеек. \n",
        "\n",
        "Каждая явейка может быть:\n",
        "* пустой\n",
        "* со скалой\n",
        "* с рыбой\n",
        "* с креветкой\n",
        "\n",
        "\n",
        "Ячейки являются соседними, если имеют хотя бы по одной общей точке с данной ячейкой.\n",
        "Все ячейки за границами игрового поля считаются пустыми. \n",
        "\n",
        "Правила обновления ячеек:\n",
        "* ячейки со скалами не меняются во времени\n",
        "* если какой-то рыбе слишком тесно (от 4 и более соседей-рыб), то рыба погибает\n",
        "* если рыбе слишком одиноко (0 или 1 соседей-рыб), то рыба погибает\n",
        "* если у рыбы 2 или 3 соседа-рыбы, то она просто продолжает жить\n",
        "* соседи-скалы и соседи-креветки никак не влияют на жизнь рыб\n",
        "* креветки существуют по аналогичным правилам (учитывая только соседей креветок)\n",
        "* если какая-то ячейка океана была пуста и имела ровно 3-х соседей рыб, то в следующий момент времени в ней рождается рыба.\n",
        "Иначе если у ячейки было ровно три соседа-креветки, в ней рождается креветка\n",
        "* изменение всех ячеек океана происходит одновременно, учитывая только состояния ячеек в предыдущий момент времени\n",
        "\n",
        "В каждый квант времени ячейки последовательно обрабатываются.\n",
        "\n",
        "### Условие\n",
        "\n",
        "Вам нужно в файле ```life_game.py``` реализовать класс ```LifeGame```.\n",
        "* Инициализируется начальным состоянием океана - прямоугольным списком списков (формируя тем самым матрицу), каждый элемент которого это число. \n",
        "0 - если ячейка пустая, 1 - со скалой, 2 - с рыбой, 3 - с креветкой\n",
        "* Содержит метод ```get_next_generation```, который обновляет состояние океана и возвращает его содержимое\n",
        "* ```get_next_generation``` должен быть единственный публичным методом в классе\n",
        "* Вам нужно подумать, как поделить все на небольшие логические методы, которые, \n",
        "в отличие от ```get_next_generation``` пометить \"приватными\", то есть через underscore. \n",
        "\n",
        "Например, вы хотите создать метод, который извлекает соседей для клетки\n",
        "```python\n",
        "class LifeGame(object):\n",
        "    ...\n",
        "    def _get_neighbours(self, i: int, j: int):\n",
        "        pass\n",
        "```\n",
        "Это не настоящее сокрытие реализации. Это способ оповестить пользователя о том, что у него нет никаких гарантий на этот метод.\n",
        "\n",
        "## Пример\n",
        "\n",
        "```python\n",
        ">>> life_game = LifeGame([[1, 1], [1, 1]])\n",
        ">>> life_game.get_next_generation()\n",
        "[[1, 1], [1, 1]]\n",
        "```\n"
      ]
    },
    {
      "cell_type": "code",
      "metadata": {
        "tags": [],
        "cell_id": "a8c3321a-ad38-4767-bbaa-0d09d53af802",
        "id": "6aXOYgL1NhtH",
        "colab_type": "code",
        "colab": {}
      },
      "source": [
        "import copy\n",
        "\n",
        "class LifeGame(object):\n",
        "    \"\"\"\n",
        "    Class for Game life\n",
        "\n",
        "    board=[\n",
        "        [0, 0, 0, 0, 0, 0, 0, 0, 0],\n",
        "        [0, 0, 0, 0, 0, 0, 0, 0, 0],\n",
        "        [0, 0, 0, 0, 0, 0, 0, 0, 0],\n",
        "        [0, 0, 0, 0, 2, 0, 0, 0, 0],\n",
        "        [0, 0, 0, 2, 2, 2, 0, 0, 0],\n",
        "        [0, 0, 0, 0, 0, 0, 0, 0, 0],\n",
        "        [0, 0, 0, 0, 0, 0, 0, 0, 0],\n",
        "        [0, 0, 0, 0, 0, 0, 0, 0, 0],\n",
        "        [0, 0, 0, 0, 0, 0, 0, 0, 0]\n",
        "    ],\n",
        "    expected=[\n",
        "        [0, 0, 0, 0, 0, 0, 0, 0, 0],\n",
        "        [0, 0, 0, 2, 2, 2, 0, 0, 0],\n",
        "        [0, 0, 0, 0, 0, 0, 0, 0, 0],\n",
        "        [0, 2, 0, 0, 0, 0, 0, 2, 0],\n",
        "        [0, 2, 0, 0, 0, 0, 0, 2, 0],\n",
        "        [0, 2, 0, 0, 0, 0, 0, 2, 0],\n",
        "        [0, 0, 0, 0, 0, 0, 0, 0, 0],\n",
        "        [0, 0, 0, 2, 2, 2, 0, 0, 0],\n",
        "        [0, 0, 0, 0, 0, 0, 0, 0, 0]\n",
        "    ],\n",
        "    generation_number=9\n",
        "    \"\"\"\n",
        "    EMPTY = 0\n",
        "    ROCK = 1\n",
        "    FISH = 2\n",
        "    SHRIMP = 3\n",
        "\n",
        "    def __init__(self, board):\n",
        "      self.board = copy.deepcopy(board)\n",
        "      self._max_y = len(board)\n",
        "      self._max_x = len(board[0])\n",
        "\n",
        "    def get_next_generation(self):\n",
        "      self.board = self._update_board()\n",
        "      return self.board\n",
        "\n",
        "    def _is_valid(self, y, x):\n",
        "      return (0 <= y < self._max_y) and (0 <= x < self._max_x)\n",
        "\n",
        "    def _get_neighbours(self, y, x):\n",
        "      neighbours = []\n",
        "      for i in [-1, 0, 1]:\n",
        "        for j in [-1, 0, 1]:\n",
        "          if self._is_valid(y + i, x + j) and not (i == j == 0):\n",
        "            neighbours.append(self.board[y + i][x + j])\n",
        "      # neighbours.pop(neighbours.index(self._board[y][x]))\n",
        "      return neighbours\n",
        "\n",
        "    def _update_board(self):\n",
        "      new_board = copy.deepcopy(self.board)\n",
        "      for y in range(self._max_y):\n",
        "        for x in range(self._max_x):\n",
        "          new_board[y][x] = self._update_cell(y, x)\n",
        "      return new_board\n",
        "\n",
        "    def _update_cell(self, y, x):\n",
        "      neighbours = self._get_neighbours(y, x)\n",
        "      cell = self.board[y][x]\n",
        "\n",
        "      if cell == self.EMPTY:\n",
        "        return self._empty_rule(neighbours)\n",
        "      elif cell == self.ROCK:\n",
        "        return self._rock_rule(neighbours)\n",
        "      elif cell == self.FISH:\n",
        "        return self._fish_rule(neighbours)\n",
        "      elif cell == self.SHRIMP:\n",
        "        return self._shrimp_rule(neighbours)\n",
        "      else:\n",
        "        raise Exception(\"Unknown cell type\")\n",
        "\n",
        "    def _empty_rule(self, neighbours):\n",
        "      if neighbours.count(self.FISH) == 3:\n",
        "        return self.FISH\n",
        "      elif neighbours.count(self.SHRIMP) == 3:\n",
        "        return self.SHRIMP\n",
        "      return self.EMPTY\n",
        "\n",
        "    def _rock_rule(self, neighbours):\n",
        "      return self.ROCK\n",
        "\n",
        "    def _fish_rule(self, neighbours):\n",
        "      if 2 <= neighbours.count(self.FISH) <= 3:\n",
        "        return self.FISH\n",
        "      return self.EMPTY\n",
        "\n",
        "    def _shrimp_rule(self, neighbours):\n",
        "      if 2 <= neighbours.count(self.SHRIMP) <= 3:\n",
        "        return self.SHRIMP\n",
        "      return self.EMPTY\n"
      ],
      "execution_count": 0,
      "outputs": []
    },
    {
      "cell_type": "markdown",
      "metadata": {
        "id": "E11UqRN7d1VY",
        "colab_type": "text"
      },
      "source": [
        "# Test"
      ]
    },
    {
      "cell_type": "code",
      "metadata": {
        "id": "e51fmRrAwhH5",
        "colab_type": "code",
        "outputId": "34b056c5-e534-4848-aee1-39955a4f39dc",
        "colab": {
          "base_uri": "https://localhost:8080/",
          "height": 34
        }
      },
      "source": [
        "board=[\n",
        "        [0, 0, 0, 0, 0, 0, 0, 0, 0],\n",
        "        [0, 0, 0, 0, 0, 0, 0, 0, 0],\n",
        "        [0, 0, 0, 0, 0, 0, 0, 0, 0],\n",
        "        [0, 0, 0, 0, 2, 0, 0, 0, 0],\n",
        "        [0, 0, 0, 2, 2, 2, 0, 0, 0],\n",
        "        [0, 0, 0, 0, 0, 0, 0, 0, 0],\n",
        "        [0, 0, 0, 0, 0, 0, 0, 0, 0],\n",
        "        [0, 0, 0, 0, 0, 0, 0, 0, 0],\n",
        "        [0, 0, 0, 0, 0, 0, 0, 0, 0]\n",
        "    ]\n",
        "expected=[\n",
        "        [0, 0, 0, 0, 0, 0, 0, 0, 0],\n",
        "        [0, 0, 0, 2, 2, 2, 0, 0, 0],\n",
        "        [0, 0, 0, 0, 0, 0, 0, 0, 0],\n",
        "        [0, 2, 0, 0, 0, 0, 0, 2, 0],\n",
        "        [0, 2, 0, 0, 0, 0, 0, 2, 0],\n",
        "        [0, 2, 0, 0, 0, 0, 0, 2, 0],\n",
        "        [0, 0, 0, 0, 0, 0, 0, 0, 0],\n",
        "        [0, 0, 0, 2, 2, 2, 0, 0, 0],\n",
        "        [0, 0, 0, 0, 0, 0, 0, 0, 0]\n",
        "    ]\n",
        "generation_number=9\n",
        "game = LifeGame(board)\n",
        "\n",
        "for i in range(9):\n",
        "    result = game.get_next_generation()\n",
        "result == expected\n",
        "\n"
      ],
      "execution_count": 34,
      "outputs": [
        {
          "output_type": "execute_result",
          "data": {
            "text/plain": [
              "True"
            ]
          },
          "metadata": {
            "tags": []
          },
          "execution_count": 34
        }
      ]
    },
    {
      "cell_type": "markdown",
      "metadata": {
        "id": "KAOmzD3viVXs",
        "colab_type": "text"
      },
      "source": [
        "# Glider"
      ]
    },
    {
      "cell_type": "code",
      "metadata": {
        "id": "IW0N28BNejNV",
        "colab_type": "code",
        "outputId": "8bd4453c-202e-43c5-9487-e9ee28f88427",
        "colab": {
          "base_uri": "https://localhost:8080/",
          "height": 248
        }
      },
      "source": [
        "%matplotlib inline\n",
        "\n",
        "import numpy as np\n",
        "import matplotlib.pyplot as plt\n",
        "from IPython.display import clear_output\n",
        "import time\n",
        "import seaborn as sns; sns.set()\n",
        "\n",
        "board=[\n",
        "        [0, 2, 0, 0, 0, 0, 0, 0, 0],\n",
        "        [0, 0, 2, 0, 0, 0, 0, 0, 0],\n",
        "        [2, 2, 2, 0, 0, 0, 0, 0, 0],\n",
        "        [0, 0, 0, 0, 0, 0, 0, 0, 0],\n",
        "        [0, 0, 0, 0, 0, 0, 0, 0, 0],\n",
        "        [0, 0, 0, 0, 0, 0, 0, 0, 0],\n",
        "        [0, 0, 0, 0, 0, 0, 0, 0, 0],\n",
        "        [0, 0, 0, 0, 0, 0, 0, 0, 0],\n",
        "        [0, 0, 0, 0, 0, 0, 0, 0, 0]\n",
        "    ]\n",
        "\n",
        "game = LifeGame(board)\n",
        "\n",
        "for x in range(25):\n",
        "  clear_output(wait=True)\n",
        "  ax = sns.heatmap(board, linewidth=0.5, cbar=False, \n",
        "                   yticklabels=False, xticklabels=False)\n",
        "  board = game.get_next_generation()\n",
        "\n",
        "  plt.show() \n",
        "  time.sleep(0.2)"
      ],
      "execution_count": 35,
      "outputs": [
        {
          "output_type": "display_data",
          "data": {
            "image/png": "[encoded data removed]",
            "text/plain": [
              "<Figure size 432x288 with 1 Axes>"
            ]
          },
          "metadata": {
            "tags": []
          }
        }
      ]
    },
    {
      "cell_type": "code",
      "metadata": {
        "id": "0cjzbieKnA81",
        "colab_type": "code",
        "colab": {}
      },
      "source": [
        ""
      ],
      "execution_count": 0,
      "outputs": []
    }
  ]
}