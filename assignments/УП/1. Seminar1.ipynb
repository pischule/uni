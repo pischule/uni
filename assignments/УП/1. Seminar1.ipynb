{
 "cells": [
  {
   "cell_type": "markdown",
   "metadata": {
    "colab_type": "text",
    "id": "kMfHmE5xunx4"
   },
   "source": [
    "# Baby steps"
   ]
  },
  {
   "cell_type": "code",
   "execution_count": 78,
   "metadata": {
    "colab": {},
    "colab_type": "code",
    "id": "KlTjqlB8rnDs"
   },
   "outputs": [],
   "source": [
    "'''\n",
    "Напишите функцию, возвращающую n-ое число Фибоначчи\n",
    "'''\n",
    "\n",
    "def fibo(n):\n",
    "    a, b = 0, 1\n",
    "    for _ in range(n):\n",
    "        a, b = b, a + b\n",
    "    return a\n",
    "\n",
    "assert(fibo(0) == 0)\n",
    "assert(fibo(1) == 1)\n",
    "assert(fibo(3) == 2)\n",
    "assert(fibo(5) == 5)"
   ]
  },
  {
   "cell_type": "code",
   "execution_count": 79,
   "metadata": {
    "colab": {},
    "colab_type": "code",
    "id": "lZtJevAEr6DP"
   },
   "outputs": [],
   "source": [
    "'''\n",
    "Напишите функцию, которая будет получать на вход число n\n",
    "и возвращать его разложение на простые множители в порядке возрастания простых делителей\n",
    "'''\n",
    "\n",
    "def factorization(n):\n",
    "    factors = []\n",
    "    \n",
    "    factor = 2\n",
    "    while n!=1:\n",
    "        if n % factor:\n",
    "            factor += 1\n",
    "        else:\n",
    "            n //= factor\n",
    "            factors.append(factor)\n",
    "            factor = 2\n",
    "    return factors\n",
    "\n",
    "\n",
    "assert(factorization(48) == [2, 2, 2, 2, 3])\n",
    "assert(factorization(19) == [19])\n",
    "assert(factorization(8) == [2, 2, 2])"
   ]
  },
  {
   "cell_type": "code",
   "execution_count": 80,
   "metadata": {
    "colab": {},
    "colab_type": "code",
    "id": "5PX4HibXsq6k"
   },
   "outputs": [
    {
     "name": "stdout",
     "output_type": "stream",
     "text": [
      "hello world\n"
     ]
    }
   ],
   "source": [
    "'''\n",
    "Даны числа a и b.\n",
    "В строку подряд записали числа a, a + 1, …, a + b и получившееся число возвели в десятую степень.\n",
    "Нужно написать функцию, которая вернет результат этих действий.\n",
    "'''\n",
    "\n",
    "print(\"hello world\")\n",
    "\n",
    "def solve(a, b):\n",
    "    s = int(''.join(map(str, range(a, a+b+1))))\n",
    "    return s**10\n",
    "\n",
    "# solve = lambda a, b: int(''.join(map(str, range(a, a+b+1))))**10\n",
    "\n",
    "  \n",
    "assert(solve(1, 0) == 1)\n",
    "assert(solve(1, 1) == 61917364224)\n",
    "assert(solve(10, 20) == 111694722351230922976778472090632895156718827478416615653710369633911871254201665703318642836290458450739959691629830596528202920071157544853269909685672622127138349084523460385019904560663134403334780427582916750309793620296740871462533534729603150147448178772172264833559379786889731555377494640349533955338181526470103861784212515384173535448462840006830232041351412846862878048656541885318827442490000000000)"
   ]
  },
  {
   "cell_type": "code",
   "execution_count": 81,
   "metadata": {
    "colab": {},
    "colab_type": "code",
    "id": "8wYLM86jtmtl"
   },
   "outputs": [],
   "source": [
    "'''\n",
    "Дано число, записанное в десятичной системе счисления.\n",
    "Нужно написать функцию, которая переводит его в римскую систему счисления.\n",
    "'''\n",
    "\n",
    "def to_roman(n):\n",
    "    roman = ['I','IV','V','IX','X','XL','L','XC','C','CD','D','CM','M']\n",
    "    arab = [1, 4, 5, 9, 10, 40, 50, 90, 100, 400, 500, 900, 1000]\n",
    "    ret = []\n",
    "    i = len(roman)-1\n",
    "    while n:\n",
    "        if (n >= arab[i]):\n",
    "            ret += roman[i]\n",
    "            n -= arab[i]\n",
    "        else:\n",
    "            i -= 1\n",
    "    return \"\".join(ret)\n",
    "\n",
    "assert(to_roman(1) == 'I')\n",
    "assert(to_roman(5) == 'V')\n",
    "assert(to_roman(849) == 'DCCCXLIX')"
   ]
  },
  {
   "cell_type": "markdown",
   "metadata": {
    "colab_type": "text",
    "id": "2ULIkKTHus4c"
   },
   "source": [
    "# Childhood"
   ]
  },
  {
   "cell_type": "markdown",
   "metadata": {
    "colab_type": "text",
    "id": "Cdt2DkrUuZ5T"
   },
   "source": [
    "## ITERATE ME\n",
    "### Условие\n",
    "\n",
    "Реализуйте функции:\n",
    "\n",
    "* `get_squares` - возвращает квадрат значений\n",
    "* `get_indices_from_one` - возвращает список индексов элементов, начиная с 1\n",
    "* `get_max_element_index` - возвращает индекс максимального элемента\n",
    "* `get_every_second_element` - возвращает список вторых элементов\n",
    "* `get_first_three_index` - возвращает индекс первой встречаемой в списке тройки\n",
    "* `get_last_three_index` - возвращает индекс последней встречаемой в списке тройки\n",
    "\n",
    "Обратите внимание на краевые случаи.\n",
    "\n",
    "### Пример\n",
    "\n",
    "```python\n",
    ">>> get_squares([1,2,3])\n",
    "[1, 4, 9]\n",
    "```\n",
    "\n",
    "### Про задачу\n",
    "\n",
    "Здесь мы отрабатываем выбор правильной итерации. Мы можем итерироваться:\n",
    "* по индексам\n",
    "* по значениям\n",
    "* и по индексам и по значениям\n",
    "* с помощью for\n",
    "* с помощью while\n",
    "\n",
    "Выберете самый подходящий способ под каждую микрозадачку."
   ]
  },
  {
   "cell_type": "code",
   "execution_count": 114,
   "metadata": {
    "scrolled": true
   },
   "outputs": [],
   "source": [
    "'''\n",
    "Возращает квадрат значений\n",
    "'''\n",
    "def get_squares(elements):\n",
    "    result = []\n",
    "    for i in elements:\n",
    "        result.append(i**2)\n",
    "    return result\n",
    "\n",
    "\n",
    "'''\n",
    "Возвращает список индексов элементов, начиная с 1\n",
    "'''\n",
    "def get_indices_from_one(elements):\n",
    "    result = []\n",
    "    for i in range(1, len(elements)+1):\n",
    "        result.append(i)\n",
    "    return result\n",
    "\n",
    "\n",
    "'''\n",
    "Возвращает индекс максимального элемента\n",
    "'''\n",
    "def get_max_element_index(elements):\n",
    "    if not elements:\n",
    "        raise ValueError(\"Empty list\")\n",
    "        \n",
    "    \n",
    "    m_val = elements[0]\n",
    "    m_index = 0\n",
    "    for i, v in enumerate(elements):\n",
    "        if m_val < v:\n",
    "            m_index, m_val = i, v\n",
    "    return m_index\n",
    "        \n",
    "\n",
    "\n",
    "'''\n",
    "Возвращает список вторых элементов\n",
    "'''\n",
    "def get_every_second_element(elements):\n",
    "    result = []\n",
    "    for i in range(1, len(elements), 2):\n",
    "        result.append(elements[i])\n",
    "    return result\n",
    "\n",
    "\n",
    "\n",
    "'''\n",
    "Возвращает индекс первой встречаемой в списке тройки\n",
    "'''\n",
    "def get_first_three_index(elements):\n",
    "    for i, v in enumerate(elements):\n",
    "        if v == 3:\n",
    "            return i\n",
    "    raise ValueError(\"3 is not in list\")\n",
    "\n",
    "\n",
    "'''\n",
    "Возвращает индекс последней встречаемой в списке тройки\n",
    "'''\n",
    "def get_last_three_index(elements):\n",
    "    for i, v in enumerate(reversed(elements)):\n",
    "        if v == 3:\n",
    "            return len(elements) - i - 1\n",
    "    raise ValueError(\"3 is not in list\")"
   ]
  },
  {
   "cell_type": "markdown",
   "metadata": {
    "colab_type": "text",
    "id": "1mhYKwRivj-U"
   },
   "source": [
    "## FizzBuzz question\n",
    "### Условие\n",
    "\n",
    "Вернуть список чисел от 1 до n. При этом вместо чисел, кратных трем, там должно быть слово \"Fizz\", \n",
    "а вместо чисел, кратных пяти — слово \"Buzz\". Если число кратно и 3, и 5, то вместо них должно быть  слово \"FizzBuzz\".\n",
    "\n",
    "* Постарайтесь написать самый простой и читабельный вариант решения\n",
    "* Постарайтесь написать задачу за 5 минут и с первого раза\n",
    "\n",
    "### Пример\n",
    "\n",
    "```python\n",
    "In [2]: get_fizz_buzz(3)\n",
    "Out[2]: [1, 2, \"Fizz\"]\n",
    "```\n",
    "\n",
    "### Про задачу\n",
    "\n",
    "Классическая задача, имя которой стало нарицательным - \"FizzBuzz question\". \n",
    "\n",
    "Она используется для предварительных собеседований. Предварительные собеседование нужны потому, что\n",
    "> the fact that 199 out of 200 applicants for every programming job can’t write code at all\n",
    "\n",
    "И как говорится в одной статье про успехи в решении:\n",
    "> The majority of comp sci graduates can't. \n",
    "> I've also seen self-proclaimed senior programmers take more than 10-15 minutes to write a solution.\n",
    "\n",
    "В реальных задачах возвращать список с элементами разных типов - антипаттерн. \n",
    "Старайтесь так не делать в своем продакшен коде.\n"
   ]
  },
  {
   "cell_type": "code",
   "execution_count": 83,
   "metadata": {
    "colab": {},
    "colab_type": "code",
    "id": "KoiXm-xLvyVk"
   },
   "outputs": [],
   "source": [
    "def get_fizz_buzz(n):\n",
    "    res = []\n",
    "    for i in range(1, n+1):\n",
    "        if i % 15 == 0:\n",
    "            res.append(\"FizzBuzz\")\n",
    "        elif i % 3 == 0:\n",
    "            res.append(\"Fizz\")\n",
    "        elif i % 5 == 0:\n",
    "            res.append(\"Buzz\")\n",
    "        else:\n",
    "            res.append(i)\n",
    "    return res"
   ]
  }
 ],
 "metadata": {
  "colab": {
   "collapsed_sections": [
    "kMfHmE5xunx4",
    "1mhYKwRivj-U"
   ],
   "name": "Seminar1.ipynb",
   "provenance": []
  },
  "kernelspec": {
   "display_name": "Python 3",
   "language": "python",
   "name": "python3"
  },
  "language_info": {
   "codemirror_mode": {
    "name": "ipython",
    "version": 3
   },
   "file_extension": ".py",
   "mimetype": "text/x-python",
   "name": "python",
   "nbconvert_exporter": "python",
   "pygments_lexer": "ipython3",
   "version": "3.7.3"
  }
 },
 "nbformat": 4,
 "nbformat_minor": 1
}
