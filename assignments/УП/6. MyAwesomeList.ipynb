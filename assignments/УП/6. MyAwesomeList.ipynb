{
  "cells": [
    {
      "cell_type": "markdown",
      "metadata": {
        "id": "qOl2TmJWOfsS",
        "colab_type": "text"
      },
      "source": [
        "# MyAwesomeList"
      ]
    },
    {
      "cell_type": "markdown",
      "metadata": {
        "id": "8eOrrLa2OYx7",
        "colab_type": "text"
      },
      "source": [
        "Вам нужно реализовать класс-наследник стандартного списка, в котором добавить аттрибуты(property):\n",
        "* **reversed** (с коротким псевдонимом **R**):\n",
        "  * При обращении возвращается список с элементами в обратном порядке.\n",
        "* **first** (с коротким псевдонимом **F**):\n",
        "  * При обращении возвращается первый элемент списка. \n",
        "  * Должна присутствовать возможность изменять этот атрибут. Вместе с ним должен меняться и сам список\n",
        "  * При попытке прочитать или установить значение **first** в пустом списке бросается исключение\n",
        "* **last** (с коротким псевдонимом **L**):\n",
        "  * При обращении возвращается последний элемент списка.\n",
        "  * Должна присутствовать возможность изменять этот атрибут. Вместе с ним должен меняться и сам список. \n",
        "  * При попытке прочитать или установить значение **last** в пустом списке бросается исключение\n",
        "* **size** (с коротким псевдонимом **S**):\n",
        "  * При обращении возвращается размер списка. \n",
        "  * Должна присутствовать возможность изменять этот атрибут: \n",
        "    при увеличении размера в конец должны добавляться значения None, \n",
        "    а при уменьшении последние элементы должны удаляться.\n",
        "\n",
        "## Пример\n",
        "\n",
        "```python\n",
        ">>> list_twist = ListTwist([1, 2, 3])\n",
        ">>> print(list_twist.reversed)\n",
        "[3, 2, 1]\n",
        ">>> print(list_twist.first)\n",
        "1\n",
        ">>> list_twist.F = 0\n",
        ">>> print(list_twist)\n",
        "[0, 2, 3]\n",
        ">>> print(list_twist.last)\n",
        "3\n",
        ">>> list_twist.last = 4\n",
        "[0, 2, 4]\n",
        ">>> list_twist.size = 2\n",
        ">>> print(list_twist)\n",
        "[0, 2]\n",
        ">>> list_twist.size = 4\n",
        ">>> print(list_twist)\n",
        "[0, 2, None, None]\n",
        "```\n",
        "\n",
        "### Замечания\n",
        "\n",
        "* Все перечисленные атрибуты не являются методами (см. пример), т.е. должны быть реализованы через property\n",
        "* Важно не сломать базовую функциональность списка\n",
        "* Псевдонимы можно сделать также через property, которые внутри состоят просто из обращения к нужной оригинальной property\n",
        "\n"
      ]
    },
    {
      "cell_type": "code",
      "metadata": {
        "id": "Y-EN_JY6PqLO",
        "colab_type": "code",
        "colab": {}
      },
      "source": [
        "class ExtendedList(list):\n",
        "    @property\n",
        "    def reversed(self):\n",
        "        return self[::-1]\n",
        "\n",
        "    @property\n",
        "    def R(self):\n",
        "        return self.reversed\n",
        "    \n",
        "    @property\n",
        "    def first(self):\n",
        "        if not self:\n",
        "            raise IndexError('ExtendedList is empty')\n",
        "        return self[0]\n",
        "    \n",
        "    @first.setter\n",
        "    def first(self, value):\n",
        "        if not self:\n",
        "            raise IndexError('ExtendedList is empty')\n",
        "        self[0] = value\n",
        "\n",
        "    @property\n",
        "    def F(self):\n",
        "        return self.first\n",
        "\n",
        "    @F.setter\n",
        "    def F(self, value):\n",
        "        self.first = value\n",
        "\n",
        "    @property\n",
        "    def last(self):\n",
        "        if not self:\n",
        "            raise IndexError('ExtendedList is empty')\n",
        "        return self[-1]\n",
        "\n",
        "\n",
        "    @last.setter\n",
        "    def last(self, value):\n",
        "        if not self:\n",
        "            raise IndexError('ExtendedList is empty')\n",
        "        self[-1] = value\n",
        "\n",
        "    @property\n",
        "    def L(self):\n",
        "        return self.last\n",
        "\n",
        "    @L.setter\n",
        "    def L(self, value):\n",
        "        self.last = value\n",
        "\n",
        "    @property\n",
        "    def size(self):\n",
        "        return len(self)\n",
        "\n",
        "    @size.setter\n",
        "    def size(self, new_size):\n",
        "        if new_size < 0:\n",
        "            raise ValueError('Negative size is provided')\n",
        "    \n",
        "        if new_size > len(self):\n",
        "            self += [None] * (new_size - len(self))\n",
        "        else:\n",
        "            del self[new_size:]\n",
        "\n",
        "    @property\n",
        "    def S(self):\n",
        "        return self.size\n",
        "    \n",
        "    @S.setter\n",
        "    def S(self, value):\n",
        "        self.size = value\n"
      ],
      "execution_count": 1,
      "outputs": []
    },
    {
      "cell_type": "code",
      "execution_count": 2,
      "metadata": {},
      "outputs": [
        {
          "output_type": "stream",
          "name": "stdout",
          "text": "[4, 3, 2, 1]\n"
        }
      ],
      "source": [
        "# test reversed\n",
        "el = ExtendedList([1,2,3,4])\n",
        "print(el.R)"
      ]
    },
    {
      "cell_type": "code",
      "execution_count": 3,
      "metadata": {},
      "outputs": [
        {
          "output_type": "stream",
          "name": "stdout",
          "text": "42\n[42, 2, 3, 4]\n"
        }
      ],
      "source": [
        "# test first\n",
        "el.first = 42\n",
        "print(el.F)\n",
        "print(el) "
      ]
    },
    {
      "cell_type": "code",
      "execution_count": 4,
      "metadata": {},
      "outputs": [
        {
          "output_type": "stream",
          "name": "stdout",
          "text": "[1, 2, 3, 4] 4\n[1, 2, 3, 4, None] 5\n[1, 2] 2\n"
        }
      ],
      "source": [
        "# size_test\n",
        "el = ExtendedList([1,2,3,4])\n",
        "print(el, el.S)\n",
        "el.S = 5\n",
        "print(el, el.S)\n",
        "el.S = 2\n",
        "print(el, el.S)\n"
      ]
    },
    {
      "cell_type": "code",
      "execution_count": null,
      "metadata": {},
      "outputs": [],
      "source": []
    }
  ],
  "metadata": {
    "colab": {
      "name": "ListTask.ipynb",
      "provenance": []
    },
    "kernelspec": {
      "name": "python3",
      "display_name": "Python 3"
    }
  },
  "nbformat": 4,
  "nbformat_minor": 0
}